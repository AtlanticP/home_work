{
 "cells": [
  {
   "cell_type": "code",
   "execution_count": 14,
   "id": "395777df",
   "metadata": {},
   "outputs": [],
   "source": [
    "import random\n",
    "import numpy as np \n",
    "import math\n",
    "import time \n",
    "# import multiprocessing\n",
    "import concurrent.futures"
   ]
  },
  {
   "cell_type": "markdown",
   "id": "d320a4ae",
   "metadata": {},
   "source": [
    "1. Основы программирования\n",
    "2. Основы BigData\n",
    "3. Основы баз данных"
   ]
  },
  {
   "cell_type": "markdown",
   "id": "5a07dd51",
   "metadata": {},
   "source": [
    "### 1. Основы программирования"
   ]
  },
  {
   "attachments": {},
   "cell_type": "markdown",
   "id": "d3c19cc4",
   "metadata": {},
   "source": [
    "***1. Дан массив целых чисел nums и целое число target. Написать функцию, возвращающую индексы элементов, дающих в сумме число target?***"
   ]
  },
  {
   "cell_type": "code",
   "execution_count": 15,
   "id": "60050e29",
   "metadata": {},
   "outputs": [
    {
     "name": "stdout",
     "output_type": "stream",
     "text": [
      "Массив:  [2, 6, 5, 4, 2, 2, 9, 7, 6, 4]\n",
      "target: 2\n",
      "Искомые пары индексов: Среди данного массива нет чисел отвечающих условиям задачи\n"
     ]
    }
   ],
   "source": [
    "def func(nums, target, toggle=True):\n",
    "    ''' nums - массив целых чисел (list or tuple)\n",
    "        target - integer\n",
    "        toggle - если True, то складывать число с самим собой нельзя\n",
    "    '''\n",
    "    if not isinstance(lst, (list, tuple)):\n",
    "        raise TypeError( 'Должен быть массив целых чисел (list or tuple)') \n",
    "        \n",
    "    idx = []\n",
    "    for i in range(len(nums)):\n",
    "        for j in range(len(nums)):\n",
    "            \n",
    "            if i == j and toggle:\n",
    "                continue \n",
    "            \n",
    "            if nums[i]+nums[j] == target:\n",
    "                \n",
    "                if (j, i) in idx:\n",
    "                    continue\n",
    "                else:\n",
    "                    idx.append((i, j))\n",
    "    if idx:        \n",
    "        return idx\n",
    "    else:\n",
    "        txt = 'Среди данного массива нет чисел отвечающих условиям задачи'\n",
    "        return txt\n",
    "\n",
    "# генерируем массив из случайных чисел\n",
    "# random.seed(33)\n",
    "rng = range(random.randint(1, 10))\n",
    "lst = [random.randint(1, 10) for i in rng]\n",
    "print('Массив: ', lst)\n",
    "\n",
    "# генерируем случайное число - target\n",
    "# random.seed(33)\n",
    "target = random.randint(1, 15)\n",
    "print('target:', target)\n",
    "\n",
    "res = func(lst, target, False)\n",
    "print('Искомые пары индексов:', res)"
   ]
  },
  {
   "cell_type": "markdown",
   "id": "cd7d7a60",
   "metadata": {},
   "source": [
    "***2. Предполагается, что в каждом массиве имеется не больше одной пары дающих в сумме заданное число target. Нельзя использовать один и тот же элемент дважды?***\n",
    "\n",
    "Такой элемент можно использовать дважды в силу коммутативности операции сложения целых чисел (множество целых чисел - коммутативное кольцо)."
   ]
  },
  {
   "cell_type": "markdown",
   "id": "601af81b",
   "metadata": {},
   "source": [
    "#### 2. Основы BigData"
   ]
  },
  {
   "cell_type": "markdown",
   "id": "c5eb12ef",
   "metadata": {},
   "source": [
    "***3. Напиши псевдокодом последовательность расчета word count в парадигме map-reduce***"
   ]
  },
  {
   "cell_type": "markdown",
   "id": "22b6172f",
   "metadata": {},
   "source": [
    "// - комментарии\n",
    "```\n",
    "Начало\n",
    "Ввод(коллекция из слов);\n",
    "    //----------MAP------------------\n",
    "    множество := разбить коллекцию на n-подмножеств; \n",
    "    // где \"множество\" есть множество подмножеств из слов\n",
    "    // всего n подмножеств (элементов множества)\n",
    "    словарь := создать словарь результатов всех подсчетов;\n",
    "    для каждого элемента из множества:\n",
    "        результат := посчитать частоту слов;\n",
    "        добавить результат в словарь;\n",
    "    передать словарь для обработки в процедуру REDUCE    \n",
    "    // --------REDUCE-----------------\n",
    "    общий результат := объеденить все результаты из словаря\n",
    "Конец\n",
    "```"
   ]
  },
  {
   "cell_type": "markdown",
   "id": "e936df46",
   "metadata": {},
   "source": [
    "###### Эмулирование MapReduce"
   ]
  },
  {
   "cell_type": "code",
   "execution_count": 16,
   "id": "481ad045",
   "metadata": {},
   "outputs": [
    {
     "name": "stdout",
     "output_type": "stream",
     "text": [
      "['word3', 'word7', 'word9', 'word5', 'word8', 'word3', 'word9', 'word8', 'word7', 'word9', 'word3', 'word5', 'word8', 'word5', 'word6', 'word8', 'word5', 'word6', 'word3', 'word6', 'word3', 'word3', 'word9', 'word7', 'word9', 'word9', 'word5', 'word3', 'word7', 'word9', 'word3', 'word9', 'word7', 'word8', 'word6', 'word7', 'word8', 'word6', 'word5', 'word8', 'word6', 'word6', 'word9', 'word5', 'word3', 'word7', 'word3', 'word6', 'word5', 'word6', 'word7', 'word6', 'word9', 'word9', 'word9', 'word8', 'word9', 'word7', 'word7', 'word9', 'word5', 'word7', 'word8', 'word5', 'word3', 'word5', 'word9', 'word9', 'word6', 'word9', 'word5', 'word5', 'word3', 'word5', 'word9', 'word9', 'word6', 'word5', 'word3', 'word6', 'word7', 'word3', 'word7', 'word3', 'word7', 'word7', 'word8', 'word6', 'word3', 'word5', 'word6', 'word7', 'word5', 'word9', 'word6', 'word5', 'word7', 'word8', 'word9', 'word7']\n"
     ]
    }
   ],
   "source": [
    "nwords = 10  # 20000\n",
    "np.random.seed(32)\n",
    "idx = np.random.randint(nwords, size=nwords*10)\n",
    "words = list(map(lambda i: f'word{i}', idx))\n",
    "words = np.array(words)[idx].tolist()\n",
    "print(words)"
   ]
  },
  {
   "cell_type": "code",
   "execution_count": 17,
   "id": "79589a08",
   "metadata": {},
   "outputs": [],
   "source": [
    "def split(words, nchunks):\n",
    "    '''split data into chunks'''\n",
    "    step = math.ceil(len(words)/nchunks)\n",
    "    for i in range(0, len(words), step):\n",
    "        yield words[i:i+step]\n",
    "\n",
    "def worker_counter(chunk, numb):\n",
    "    '''\n",
    "        worker that count words in a collection\n",
    "        chunk: a collection\n",
    "        numb: a worker number\n",
    "    '''\n",
    "    dct = {}  # dictionary to store word counters\n",
    "    print('Starting process by worker {}'.format(numb))\n",
    "    \n",
    "    while chunk:\n",
    "        word = chunk.pop()        \n",
    "        if word in dct.keys():\n",
    "            dct[word] += 1 \n",
    "        else:\n",
    "            dct [word] = 1 \n",
    "    # time.sleep(1)            \n",
    "    print(f'Process is finished by worker {numb}')\n",
    "    return dct"
   ]
  },
  {
   "cell_type": "markdown",
   "id": "e2f02f7d",
   "metadata": {},
   "source": [
    "***MAP***"
   ]
  },
  {
   "cell_type": "code",
   "execution_count": 18,
   "id": "2922dc9a",
   "metadata": {},
   "outputs": [
    {
     "name": "stdout",
     "output_type": "stream",
     "text": [
      "*****mapping: splitting and processing***\n",
      "Starting process by worker 2Starting process by worker 1\n",
      "\n",
      "Process is finished by worker 2Process is finished by worker 1\n",
      "\n",
      "Finished  in 0.0991 second(s)\n"
     ]
    }
   ],
   "source": [
    "def map1(words, nchunks=2):\n",
    "\n",
    "    processes = []  # list to store current workers\n",
    "    results = [] # list to store all results of workers\n",
    "    splitted_data = split(words, nchunks) # generator function\n",
    "\n",
    "    # start time counting\n",
    "    start_time = time.perf_counter()\n",
    "    \n",
    "    # multithread for each worker\n",
    "    with concurrent.futures.ProcessPoolExecutor() as executor:\n",
    "        for numb, chunk in enumerate(splitted_data, start=1):\n",
    "            proc = executor.submit(worker_counter, chunk, numb)\n",
    "            processes.append(proc)\n",
    "    \n",
    "    # extract and store result of each worker to results\n",
    "    for f in concurrent.futures.as_completed(processes):\n",
    "        results.append(f.result())\n",
    "    \n",
    "    end_time = time.perf_counter()        \n",
    "    print(f'Finished  in {round(end_time - start_time, 4)} second(s)')            \n",
    "\n",
    "    return results\n",
    "\n",
    "print('*****mapping: splitting and processing***')\n",
    "results = map1(words, 2)"
   ]
  },
  {
   "cell_type": "markdown",
   "id": "eeb466f3",
   "metadata": {},
   "source": [
    "***REDUCE***"
   ]
  },
  {
   "cell_type": "code",
   "execution_count": 19,
   "id": "b4cba946",
   "metadata": {},
   "outputs": [
    {
     "name": "stdout",
     "output_type": "stream",
     "text": [
      "****reducing: combining results of mapping******\n",
      "{'word9': 21, 'word7': 18, 'word5': 18, 'word6': 16, 'word3': 16, 'word8': 11}\n"
     ]
    }
   ],
   "source": [
    "def reduce(results):\n",
    "    \n",
    "    dct = {}  # final result\n",
    "    for worker in results:        \n",
    "        for key in worker.keys():\n",
    "            \n",
    "            if key in dct.keys():\n",
    "                dct[key] += worker[key]\n",
    "            else:\n",
    "                dct[key] = worker[key]\n",
    "    \n",
    "    return dct\n",
    "\n",
    "print('****reducing: combining results of mapping******')\n",
    "res = reduce(results)\n",
    "res = dict(sorted(res.items(), key=lambda x: x[1], reverse=True))\n",
    "print(res)"
   ]
  },
  {
   "cell_type": "markdown",
   "id": "67f4ab5e",
   "metadata": {},
   "source": [
    "### 3. Основы баз данных"
   ]
  },
  {
   "cell_type": "markdown",
   "id": "20021fc4",
   "metadata": {},
   "source": [
    "***3. Перечисли способы получить количество записей в таблице?***\n",
    "\n",
    "Способ 1\n",
    "```\n",
    "SELECT COUNT(*) FROM Income\n",
    "UNION\n",
    "SELECT COUNT(*) FROM Outcome;\n",
    "```\n",
    "Способ 2\n",
    "```\n",
    "SELECT \n",
    "    TABLE_NAME, TABLE_ROWS\n",
    "FROM\n",
    "    INFORMATION_SCHEMA.TABLES\n",
    "WHERE TABLE_SCHEMA = 'inc_out' AND TABLE_NAME = 'Income'\n",
    "```\n",
    "Способ 3\n",
    "```\n",
    "SHOW TABLE STATUS;\n",
    "```\n",
    "Способ 4\n",
    "```\n",
    "SELECT * FROM Income i\n",
    "SELECT FOUND_ROWS(); \n",
    "```"
   ]
  },
  {
   "cell_type": "markdown",
   "id": "a8df991a",
   "metadata": {},
   "source": [
    "***2. Выполнится ли этот запрос?***\n",
    "```\n",
    "SELECT \n",
    "     order_id,\n",
    "     order_code,\n",
    "     SUM(order_value)\n",
    "FROM \n",
    "     orders\n",
    "GROUP BY\n",
    "     order_id\n",
    "```\n",
    "Данный запрос не выполнится поскольку столбец ***order_code*** не включен в <span style=\"color:green\">***GROUP BY***</span> и не инкапсулирован в агрегатную функцию."
   ]
  },
  {
   "cell_type": "code",
   "execution_count": null,
   "id": "a5824859",
   "metadata": {},
   "outputs": [],
   "source": []
  },
  {
   "cell_type": "code",
   "execution_count": null,
   "id": "c405effd",
   "metadata": {},
   "outputs": [],
   "source": []
  },
  {
   "cell_type": "code",
   "execution_count": null,
   "id": "6d0dd76b",
   "metadata": {},
   "outputs": [],
   "source": []
  }
 ],
 "metadata": {
  "kernelspec": {
   "display_name": "Python 3 (ipykernel)",
   "language": "python",
   "name": "python3"
  },
  "language_info": {
   "codemirror_mode": {
    "name": "ipython",
    "version": 3
   },
   "file_extension": ".py",
   "mimetype": "text/x-python",
   "name": "python",
   "nbconvert_exporter": "python",
   "pygments_lexer": "ipython3",
   "version": "3.7.10"
  },
  "latex_envs": {
   "LaTeX_envs_menu_present": true,
   "autoclose": false,
   "autocomplete": false,
   "bibliofile": "biblio.bib",
   "cite_by": "apalike",
   "current_citInitial": 1,
   "eqLabelWithNumbers": false,
   "eqNumInitial": 1,
   "hotkeys": {
    "equation": "Ctrl-E",
    "itemize": "Ctrl-I"
   },
   "labels_anchors": false,
   "latex_user_defs": false,
   "report_style_numbering": false,
   "user_envs_cfg": false
  }
 },
 "nbformat": 4,
 "nbformat_minor": 5
}
